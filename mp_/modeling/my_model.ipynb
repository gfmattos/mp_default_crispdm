{
 "cells": [
  {
   "cell_type": "code",
   "execution_count": null,
   "metadata": {},
   "outputs": [],
   "source": []
  }
 ],
 "metadata": {
  "kernelspec": {
   "display_name": "base",
   "language": "python",
   "name": "python3"
  },
  "language_info": {
   "name": "python",
   "version": "3.8.8"
  },
  "orig_nbformat": 4,
  "vscode": {
   "interpreter": {
    "hash": "0a0d7df959eacc9e30ec98d6696312846fc9dbc13ef7d3622b43eccd8fcb5933"
   }
  }
 },
 "nbformat": 4,
 "nbformat_minor": 2
}
